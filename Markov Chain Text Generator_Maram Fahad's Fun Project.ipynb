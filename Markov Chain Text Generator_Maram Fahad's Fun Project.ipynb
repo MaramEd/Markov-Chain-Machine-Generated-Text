{
 "cells": [
  {
   "cell_type": "code",
   "execution_count": 1,
   "metadata": {},
   "outputs": [],
   "source": [
    "import random "
   ]
  },
  {
   "cell_type": "code",
   "execution_count": 2,
   "metadata": {},
   "outputs": [],
   "source": [
    "corpus = [line.rstrip('\\n') for line in open(\"Motivational_Sayings_Corpus.txt\")]"
   ]
  },
  {
   "cell_type": "code",
   "execution_count": 3,
   "metadata": {},
   "outputs": [
    {
     "data": {
      "text/plain": [
       "['Keep calm and read the lessons.',\n",
       " 'Keep calm and commit your labs.',\n",
       " 'Keep calm and practice coding in python.',\n",
       " 'Keep calm and work on lightning talk 2.',\n",
       " 'Keep calm and help your classmates.',\n",
       " 'Keep calm and work on your capstone.',\n",
       " 'Keep calm and review the lessons we sat through.',\n",
       " 'Keep calm and finish working on project 3.',\n",
       " 'Keep calm and discuss your presentation ideas.',\n",
       " 'Keep calm and submit your presentation.',\n",
       " 'Keep calm and ask for help when needed.',\n",
       " 'Keep calm and think about your lab answers.',\n",
       " 'Keep calm and enjoy the program.',\n",
       " 'Keep calm and read ahead.',\n",
       " 'Keep calm and enjoy the learning experience.',\n",
       " 'Keep calm and keep being awesome.',\n",
       " 'Keep calm and keep being motivated.',\n",
       " 'Keep calm and maintain connections with your classmates.']"
      ]
     },
     "execution_count": 3,
     "metadata": {},
     "output_type": "execute_result"
    }
   ],
   "source": [
    "corpus"
   ]
  },
  {
   "cell_type": "code",
   "execution_count": 4,
   "metadata": {},
   "outputs": [],
   "source": [
    "#Build a Markov Chain model\n",
    "\n",
    "model = {}\n",
    "\n",
    "for line in corpus:\n",
    "    line = line.lower().split()\n",
    "    for i, word in enumerate(line):\n",
    "        if i == len(line)-1:   \n",
    "            model['END'] = model.get('END', []) + [word]\n",
    "        else:    \n",
    "            if i == 0:\n",
    "                model['START'] = model.get('START', []) + [word]\n",
    "            model[word] = model.get(word, []) + [line[i+1]] "
   ]
  },
  {
   "cell_type": "code",
   "execution_count": 5,
   "metadata": {},
   "outputs": [
    {
     "name": "stdout",
     "output_type": "stream",
     "text": [
      "{'START': ['keep', 'keep', 'keep', 'keep', 'keep', 'keep', 'keep', 'keep', 'keep', 'keep', 'keep', 'keep', 'keep', 'keep', 'keep', 'keep', 'keep', 'keep'], 'keep': ['calm', 'calm', 'calm', 'calm', 'calm', 'calm', 'calm', 'calm', 'calm', 'calm', 'calm', 'calm', 'calm', 'calm', 'calm', 'calm', 'being', 'calm', 'being', 'calm'], 'calm': ['and', 'and', 'and', 'and', 'and', 'and', 'and', 'and', 'and', 'and', 'and', 'and', 'and', 'and', 'and', 'and', 'and', 'and'], 'and': ['read', 'commit', 'practice', 'work', 'help', 'work', 'review', 'finish', 'discuss', 'submit', 'ask', 'think', 'enjoy', 'read', 'enjoy', 'keep', 'keep', 'maintain'], 'read': ['the', 'ahead.'], 'the': ['lessons.', 'lessons', 'program.', 'learning'], 'END': ['lessons.', 'labs.', 'python.', '2.', 'classmates.', 'capstone.', 'through.', '3.', 'ideas.', 'presentation.', 'needed.', 'answers.', 'program.', 'ahead.', 'experience.', 'awesome.', 'motivated.', 'classmates.'], 'commit': ['your'], 'your': ['labs.', 'classmates.', 'capstone.', 'presentation', 'presentation.', 'lab', 'classmates.'], 'practice': ['coding'], 'coding': ['in'], 'in': ['python.'], 'work': ['on', 'on'], 'on': ['lightning', 'your', 'project'], 'lightning': ['talk'], 'talk': ['2.'], 'help': ['your', 'when'], 'review': ['the'], 'lessons': ['we'], 'we': ['sat'], 'sat': ['through.'], 'finish': ['working'], 'working': ['on'], 'project': ['3.'], 'discuss': ['your'], 'presentation': ['ideas.'], 'submit': ['your'], 'ask': ['for'], 'for': ['help'], 'when': ['needed.'], 'think': ['about'], 'about': ['your'], 'lab': ['answers.'], 'enjoy': ['the', 'the'], 'learning': ['experience.'], 'being': ['awesome.', 'motivated.'], 'maintain': ['connections'], 'connections': ['with'], 'with': ['your']}\n"
     ]
    }
   ],
   "source": [
    "print(model)"
   ]
  },
  {
   "cell_type": "code",
   "execution_count": 6,
   "metadata": {},
   "outputs": [],
   "source": [
    "# Use model to generate sayings\n",
    "def generator():\n",
    "    motivational_sayings = []\n",
    "    \n",
    "    while True:\n",
    "        if not motivational_sayings:\n",
    "            words = model['START']\n",
    "        elif motivational_sayings[-1] in model['END']:\n",
    "            break\n",
    "        else:\n",
    "            words = model[motivational_sayings[-1]]\n",
    "        motivational_sayings.append(random.choice(words))\n",
    "    return motivational_sayings"
   ]
  },
  {
   "cell_type": "code",
   "execution_count": 7,
   "metadata": {},
   "outputs": [],
   "source": [
    "sayingsList = []"
   ]
  },
  {
   "cell_type": "code",
   "execution_count": 8,
   "metadata": {},
   "outputs": [],
   "source": [
    "for i in range(10):\n",
    "    sayingsList.append(\" \".join(generator())) "
   ]
  },
  {
   "cell_type": "code",
   "execution_count": 9,
   "metadata": {},
   "outputs": [
    {
     "data": {
      "text/plain": [
       "['keep calm and read ahead.',\n",
       " 'keep calm and discuss your classmates.',\n",
       " 'keep calm and enjoy the lessons.',\n",
       " 'keep calm and finish working on lightning talk 2.',\n",
       " 'keep calm and practice coding in python.',\n",
       " 'keep calm and work on your capstone.',\n",
       " 'keep calm and discuss your capstone.',\n",
       " 'keep calm and keep calm and review the learning experience.',\n",
       " 'keep calm and keep calm and review the learning experience.',\n",
       " 'keep calm and read ahead.']"
      ]
     },
     "execution_count": 9,
     "metadata": {},
     "output_type": "execute_result"
    }
   ],
   "source": [
    "# Generated sayings\n",
    "sayingsList"
   ]
  },
  {
   "cell_type": "code",
   "execution_count": 10,
   "metadata": {},
   "outputs": [],
   "source": [
    "f=open('Generated_Motivational_Sayings.txt','a')\n",
    "for ele in sayingsList:\n",
    "    f.write(ele+'\\n')\n",
    "\n",
    "f.close()"
   ]
  },
  {
   "cell_type": "code",
   "execution_count": null,
   "metadata": {},
   "outputs": [],
   "source": []
  }
 ],
 "metadata": {
  "kernelspec": {
   "display_name": "Python 3",
   "language": "python",
   "name": "python3"
  },
  "language_info": {
   "codemirror_mode": {
    "name": "ipython",
    "version": 3
   },
   "file_extension": ".py",
   "mimetype": "text/x-python",
   "name": "python",
   "nbconvert_exporter": "python",
   "pygments_lexer": "ipython3",
   "version": "3.7.4"
  }
 },
 "nbformat": 4,
 "nbformat_minor": 2
}
